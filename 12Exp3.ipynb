{
  "nbformat": 4,
  "nbformat_minor": 0,
  "metadata": {
    "colab": {
      "provenance": [],
      "include_colab_link": true
    },
    "kernelspec": {
      "name": "python3",
      "display_name": "Python 3"
    },
    "language_info": {
      "name": "python"
    }
  },
  "cells": [
    {
      "cell_type": "markdown",
      "metadata": {
        "id": "view-in-github",
        "colab_type": "text"
      },
      "source": [
        "<a href=\"https://colab.research.google.com/github/tejal1707/python-lab-/blob/main/12Exp3.ipynb\" target=\"_parent\"><img src=\"https://colab.research.google.com/assets/colab-badge.svg\" alt=\"Open In Colab\"/></a>"
      ]
    },
    {
      "cell_type": "markdown",
      "source": [
        "**Name:- Tejal chandrakanat patil  \n",
        "Class:- SE3  \n",
        "Roll no:- 12**"
      ],
      "metadata": {
        "id": "Uf7bJSIEKr13"
      }
    },
    {
      "cell_type": "code",
      "execution_count": null,
      "metadata": {
        "colab": {
          "base_uri": "https://localhost:8080/"
        },
        "id": "XqSCMgaaJZUz",
        "outputId": "e715444a-a496-4db0-9377-b9bfb3ccde70"
      },
      "outputs": [
        {
          "output_type": "stream",
          "name": "stdout",
          "text": [
            "Full Stack Developer\n"
          ]
        }
      ],
      "source": [
        "class Employee:\n",
        "    def __init__ (\n",
        "            self,\n",
        "            designation : str = 'Developer',\n",
        "            frontend : bool = False,\n",
        "            backend : bool = False\n",
        "    ):\n",
        "        self.designation = designation\n",
        "        self.frontend = frontend\n",
        "        self.backend = backend\n",
        "\n",
        "    def __repr__ (self):\n",
        "        return '{}'.format (self.designation, self.frontend, self.backend)\n",
        "\n",
        "    ### Write the your method over here.\n",
        "    def verifier (self):\n",
        "        if self.frontend and self.backend:\n",
        "            self.designation=\"Full Stack Developer\"\n",
        "            return 'Full Stack Developer'\n",
        "\n",
        "        elif self.frontend:\n",
        "            self.designation=\"Frontend Developer\"\n",
        "            return 'Frontend Developer'\n",
        "\n",
        "        elif self.backend:\n",
        "            self.designation=\"Backend Developer\"\n",
        "            return 'Backend Developer'\n",
        "\n",
        "        else:\n",
        "            self.designation=\"No Designation\"\n",
        "            return 'No designation assigned'\n",
        "\n",
        "if __name__ == '__main__':\n",
        "    firstEmployee = Employee ()\n",
        "    firstEmployee.frontend=\"frontend\"\n",
        "    firstEmployee.backend=\"backend\"\n",
        "    print(firstEmployee.verifier())"
      ]
    }
  ]
}
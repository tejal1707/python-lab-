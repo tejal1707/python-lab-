{
  "nbformat": 4,
  "nbformat_minor": 0,
  "metadata": {
    "colab": {
      "provenance": [],
      "include_colab_link": true
    },
    "kernelspec": {
      "name": "python3",
      "display_name": "Python 3"
    },
    "language_info": {
      "name": "python"
    }
  },
  "cells": [
    {
      "cell_type": "markdown",
      "metadata": {
        "id": "view-in-github",
        "colab_type": "text"
      },
      "source": [
        "<a href=\"https://colab.research.google.com/github/tejal1707/python-lab-/blob/main/Copy_of_12Exp2.ipynb\" target=\"_parent\"><img src=\"https://colab.research.google.com/assets/colab-badge.svg\" alt=\"Open In Colab\"/></a>"
      ]
    },
    {
      "cell_type": "markdown",
      "source": [
        "**Name:- Tejal chandrakant patil\n",
        "\n",
        "Class:- SE3   \n",
        "Roll no:- 12**"
      ],
      "metadata": {
        "id": "REUs7Ul8H9Jq"
      }
    },
    {
      "cell_type": "code",
      "source": [
        "class ConditionalStatements:\n",
        "    def checkString(self, s: str) -> bool:\n",
        "        found_b = False\n",
        "\n",
        "        for char in s:\n",
        "            if char == 'b':\n",
        "                found_b = True\n",
        "            elif char == 'a' and found_b:\n",
        "                return False\n",
        "\n",
        "        return True\n",
        "\n",
        "string_to_check = input(\"Enter a string to check: \")\n",
        "\n",
        "obj = ConditionalStatements()\n",
        "result = obj.checkString(string_to_check)\n",
        "\n",
        "print(f\"Result for '{string_to_check}': {result}\")"
      ],
      "metadata": {
        "colab": {
          "base_uri": "https://localhost:8080/"
        },
        "id": "SGNFNcLPGjSQ",
        "outputId": "272d4a73-c519-4a88-c9d0-1e84ff7df978"
      },
      "execution_count": null,
      "outputs": [
        {
          "output_type": "stream",
          "name": "stdout",
          "text": [
            "Enter a string to check: aaabbb\n",
            "Result for 'aaabbb': True\n"
          ]
        }
      ]
    },
    {
      "cell_type": "code",
      "source": [
        "class ConditionalStatements:\n",
        "    def checkString(self, s: str) -> bool:\n",
        "        found_b = False\n",
        "\n",
        "        for char in s:\n",
        "            if char == 'b':\n",
        "                found_b = True\n",
        "            elif char == 'a' and found_b:\n",
        "                return False\n",
        "\n",
        "        return True\n",
        "\n",
        "string_to_check = input(\"Enter a string to check: \")\n",
        "\n",
        "obj = ConditionalStatements()\n",
        "result = obj.checkString(string_to_check)\n",
        "\n",
        "print(f\"Result for '{string_to_check}': {result}\")"
      ],
      "metadata": {
        "colab": {
          "base_uri": "https://localhost:8080/"
        },
        "id": "SrrGLqwmHgCQ",
        "outputId": "bbbfa410-f606-457b-fefd-d4187dcfab73"
      },
      "execution_count": null,
      "outputs": [
        {
          "output_type": "stream",
          "name": "stdout",
          "text": [
            "Enter a string to check: bbbaaa\n",
            "Result for 'bbbaaa': False\n"
          ]
        }
      ]
    }
  ]
}
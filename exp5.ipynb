{
  "metadata": {
    "kernelspec": {
      "name": "python",
      "display_name": "Python (Pyodide)",
      "language": "python"
    },
    "language_info": {
      "codemirror_mode": {
        "name": "python",
        "version": 3
      },
      "file_extension": ".py",
      "mimetype": "text/x-python",
      "name": "python",
      "nbconvert_exporter": "python",
      "pygments_lexer": "ipython3",
      "version": "3.8"
    }
  },
  "nbformat_minor": 5,
  "nbformat": 4,
  "cells": [
    {
      "id": "a2881212-8cb2-444b-9cb0-29d18236396c",
      "cell_type": "code",
      "source": "stack = list ()\n\n# Append Operation\nstack.append ('a')\nstack.append ('b')\nstack.append ('c')\nprint ('Initial Stack')\nprint (stack)",
      "metadata": {
        "trusted": true
      },
      "outputs": [
        {
          "name": "stdout",
          "output_type": "stream",
          "text": "Initial Stack\n['a', 'b', 'c']\n"
        }
      ],
      "execution_count": 1
    },
    {
      "id": "b79e0a6a-2be3-4575-8dcc-f8efe0a3e63e",
      "cell_type": "code",
      "source": "# Pop Operation\nprint (stack.pop ())\nprint (stack.pop ())\nprint (stack.pop ())\nprint (stack)",
      "metadata": {
        "trusted": true
      },
      "outputs": [
        {
          "name": "stdout",
          "output_type": "stream",
          "text": "c\nb\na\n[]\n"
        }
      ],
      "execution_count": 2
    },
    {
      "id": "f4e65388-230c-4389-a502-33f4b7a6b8fc",
      "cell_type": "code",
      "source": "def maxDepth(s: str) -> int:\n    max_depth = 0\n    current_depth = 0\n    \n    for char in s:\n        if char == '(':\n            current_depth += 1\n            max_depth = max(max_depth, current_depth)  \n        elif char == ')':\n            current_depth -= 1\n    \n    return max_depth\n",
      "metadata": {
        "trusted": true
      },
      "outputs": [],
      "execution_count": 4
    },
    {
      "id": "47608b28-76b8-4843-a0c5-829a17f5d278",
      "cell_type": "code",
      "source": "class StackDepth:\n    def maximumDepth (self, stringInput : str) -> int:\n        pass",
      "metadata": {
        "trusted": true
      },
      "outputs": [],
      "execution_count": 5
    }
  ]
}